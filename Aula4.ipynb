{
  "nbformat": 4,
  "nbformat_minor": 0,
  "metadata": {
    "colab": {
      "provenance": [],
      "authorship_tag": "ABX9TyNk5/vp1ONMzRafw1pjj5qZ",
      "include_colab_link": true
    },
    "kernelspec": {
      "name": "python3",
      "display_name": "Python 3"
    },
    "language_info": {
      "name": "python"
    }
  },
  "cells": [
    {
      "cell_type": "markdown",
      "metadata": {
        "id": "view-in-github",
        "colab_type": "text"
      },
      "source": [
        "<a href=\"https://colab.research.google.com/github/nathi-gs/novas_tecnologias/blob/main/Aula4.ipynb\" target=\"_parent\"><img src=\"https://colab.research.google.com/assets/colab-badge.svg\" alt=\"Open In Colab\"/></a>"
      ]
    },
    {
      "cell_type": "code",
      "execution_count": 1,
      "metadata": {
        "colab": {
          "base_uri": "https://localhost:8080/"
        },
        "id": "XA4BXpDkV7iP",
        "outputId": "fba2b33a-9838-41a0-8b86-eb9f7e1f51ac"
      },
      "outputs": [
        {
          "output_type": "stream",
          "name": "stdout",
          "text": [
            "Digite uma frase: Alou Alou\n",
            "{'A': 2, 'l': 2, 'o': 2, 'u': 2, ' ': 1}\n"
          ]
        }
      ],
      "source": [
        "#Exercicio 1\n",
        "\n",
        "def contar_caracteres(frase):\n",
        "    contagem = {}\n",
        "\n",
        "    for caractere in frase:\n",
        "        if caractere in contagem:\n",
        "            contagem[caractere] += 1\n",
        "        else:\n",
        "            contagem[caractere] = 1\n",
        "\n",
        "    return contagem\n",
        "\n",
        "frase = input(\"Digite uma frase: \")\n",
        "\n",
        "resultado = contar_caracteres(frase)\n",
        "print(resultado)\n"
      ]
    },
    {
      "cell_type": "code",
      "source": [
        "#Exercicio 2\n",
        "\n",
        "def comparar_listas(lista1, lista2):\n",
        "    set1 = set(lista1)\n",
        "    set2 = set(lista2)\n",
        "\n",
        "    comuns = set1.intersection(set2)\n",
        "    apenas_primeira = set1.difference(set2)\n",
        "    apenas_segunda = set2.difference(set1)\n",
        "    nao_repetidos = list(set1.union(set2))\n",
        "    sem_repetidos_segunda = list(set1.difference(comuns))\n",
        "\n",
        "    return comuns, apenas_primeira, apenas_segunda, nao_repetidos, sem_repetidos_segunda\n",
        "\n",
        "lista1 = input(\"Digite os elementos da primeira lista: \").split()\n",
        "lista2 = input(\"Digite os elementos da segunda lista: \").split()\n",
        "\n",
        "comuns, apenas_primeira, apenas_segunda, nao_repetidos, sem_repetidos_segunda = comparar_listas(lista1, lista2)\n",
        "\n",
        "print(\"Valores comuns às duas listas:\", comuns)\n",
        "print(\"Valores que só existem na primeira lista:\", apenas_primeira)\n",
        "print(\"Valores que existem apenas na segunda lista:\", apenas_segunda)\n",
        "print(\"Lista com elementos não repetidos das duas listas:\", nao_repetidos)\n",
        "print(\"Primeira lista sem os elementos repetidos na segunda:\", sem_repetidos_segunda)\n"
      ],
      "metadata": {
        "colab": {
          "base_uri": "https://localhost:8080/"
        },
        "id": "CtB1DEahWStW",
        "outputId": "9bba38fc-8765-48e5-eba4-0799e5390750"
      },
      "execution_count": 5,
      "outputs": [
        {
          "output_type": "stream",
          "name": "stdout",
          "text": [
            "Digite os elementos da primeira lista separados por espaços: 2 4 3 5 4 \n",
            "Digite os elementos da segunda lista separados por espaços: 2 5 4 3 7 8 9 \n",
            "Valores comuns às duas listas: {'2', '4', '3', '5'}\n",
            "Valores que só existem na primeira lista: set()\n",
            "Valores que existem apenas na segunda lista: {'9', '7', '8'}\n",
            "Lista com elementos não repetidos das duas listas: ['7', '2', '3', '8', '9', '5', '4']\n",
            "Primeira lista sem os elementos repetidos na segunda: []\n"
          ]
        }
      ]
    },
    {
      "cell_type": "code",
      "source": [
        "#Exercicio 9\n",
        "\n",
        "def comparar_versoes(lista_inicial, lista_alterada):\n",
        "    set_inicial = set(lista_inicial)\n",
        "    set_alterada = set(lista_alterada)\n",
        "\n",
        "    nao_mudaram = set_inicial.intersection(set_alterada)\n",
        "    novos_elementos = set_alterada.difference(set_inicial)\n",
        "    removidos = set_inicial.difference(set_alterada)\n",
        "\n",
        "    return nao_mudaram, novos_elementos, removidos\n",
        "\n",
        "lista_inicial = input(\"Digite os elementos da versão inicial: \").split()\n",
        "lista_alterada = input(\"Digite os elementos da versão alteradas: \").split()\n",
        "\n",
        "nao_mudaram, novos_elementos, removidos = comparar_versoes(lista_inicial, lista_alterada)\n",
        "\n",
        "print(\"Elementos que não mudaram:\", nao_mudaram)\n",
        "print(\"Novos elementos:\", novos_elementos)\n",
        "print(\"Elementos que foram removidos:\", removidos)\n"
      ],
      "metadata": {
        "colab": {
          "base_uri": "https://localhost:8080/"
        },
        "id": "NKYjo5KvXHCW",
        "outputId": "8df23e2b-95c3-4127-aae2-63d2f70ee30f"
      },
      "execution_count": 4,
      "outputs": [
        {
          "output_type": "stream",
          "name": "stdout",
          "text": [
            "Digite os elementos da versão inicial separados por espaços: 1 3 44 6 \n",
            "Digite os elementos da versão alterada separados por espaços: 3 2 6 5\n",
            "Elementos que não mudaram: {'3', '6'}\n",
            "Novos elementos: {'2', '5'}\n",
            "Elementos que foram removidos: {'1', '44'}\n"
          ]
        }
      ]
    },
    {
      "cell_type": "code",
      "source": [
        "#Exercicio 10\n",
        "\n",
        "pessoa = {}\n",
        "pessoa[\"first_name\"] = input(\"Digite o primeiro nome: \")\n",
        "pessoa[\"last_name\"] = input(\"Digite o sobrenome: \")\n",
        "pessoa[\"age\"] = int(input(\"Digite a idade: \"))\n",
        "pessoa[\"city\"] = input(\"Digite a cidade: \")\n",
        "\n",
        "print(\"Primeiro nome:\", pessoa[\"first_name\"])\n",
        "print(\"Sobrenome:\", pessoa[\"last_name\"])\n",
        "print(\"Idade:\", pessoa[\"age\"])\n",
        "print(\"Cidade:\", pessoa[\"city\"])\n"
      ],
      "metadata": {
        "colab": {
          "base_uri": "https://localhost:8080/"
        },
        "id": "dNdrVKIGX6s0",
        "outputId": "cf318349-a6ff-4738-ef12-ca3ccd0d87f9"
      },
      "execution_count": 7,
      "outputs": [
        {
          "output_type": "stream",
          "name": "stdout",
          "text": [
            "Digite o primeiro nome: Nathalia\n",
            "Digite o sobrenome: Gonçalves\n",
            "Digite a idade: 21\n",
            "Digite a cidade: Goiania\n",
            "Primeiro nome: Nathalia\n",
            "Sobrenome: Gonçalves\n",
            "Idade: 21\n",
            "Cidade: Goiania\n"
          ]
        }
      ]
    },
    {
      "cell_type": "code",
      "source": [
        "#Exercicio 11\n",
        "\n",
        "def comparar_pessoas(pessoa1, pessoa2):\n",
        "    mesma_idade = pessoa1[\"age\"] == pessoa2[\"age\"]\n",
        "    mesmo_nome = pessoa1[\"first_name\"] == pessoa2[\"first_name\"] and pessoa1[\"last_name\"] == pessoa2[\"last_name\"]\n",
        "    mesma_cidade = pessoa1[\"city\"] == pessoa2[\"city\"]\n",
        "    return mesma_idade, mesmo_nome, mesma_cidade\n",
        "\n",
        "people = []\n",
        "\n",
        "for i in range(3):\n",
        "    pessoa = {}\n",
        "    pessoa[\"first_name\"] = input(\"Digite o primeiro nome da pessoa {}: \".format(i+1))\n",
        "    pessoa[\"last_name\"] = input(\"Digite o sobrenome da pessoa {}: \".format(i+1))\n",
        "    pessoa[\"age\"] = int(input(\"Digite a idade da pessoa {}: \".format(i+1)))\n",
        "    pessoa[\"city\"] = input(\"Digite a cidade da pessoa {}: \".format(i+1))\n",
        "    people.append(pessoa)\n",
        "\n",
        "for pessoa in people:\n",
        "    print(\"Primeiro nome:\", pessoa[\"first_name\"])\n",
        "    print(\"Sobrenome:\", pessoa[\"last_name\"])\n",
        "    print(\"Idade:\", pessoa[\"age\"])\n",
        "    print(\"Cidade:\", pessoa[\"city\"])\n",
        "    print()\n"
      ],
      "metadata": {
        "colab": {
          "base_uri": "https://localhost:8080/"
        },
        "id": "5hpVX0YxYn-F",
        "outputId": "886a9c98-fea1-4723-956a-3a168b448b80"
      },
      "execution_count": 9,
      "outputs": [
        {
          "output_type": "stream",
          "name": "stdout",
          "text": [
            "Digite o primeiro nome da pessoa 1: Heloysa\n",
            "Digite o sobrenome da pessoa 1: Silva\n",
            "Digite a idade da pessoa 1: 19\n",
            "Digite a cidade da pessoa 1: Brasilia\n",
            "Digite o primeiro nome da pessoa 2: Luis\n",
            "Digite o sobrenome da pessoa 2: Oliveira\n",
            "Digite a idade da pessoa 2: 20\n",
            "Digite a cidade da pessoa 2: Brasilia\n",
            "Digite o primeiro nome da pessoa 3: Nathalia\n",
            "Digite o sobrenome da pessoa 3: Silva\n",
            "Digite a idade da pessoa 3: 21\n",
            "Digite a cidade da pessoa 3: Goiania\n",
            "Primeiro nome: Heloysa\n",
            "Sobrenome: Silva\n",
            "Idade: 19\n",
            "Cidade: Brasilia\n",
            "\n",
            "Primeiro nome: Luis\n",
            "Sobrenome: Oliveira\n",
            "Idade: 20\n",
            "Cidade: Brasilia\n",
            "\n",
            "Primeiro nome: Nathalia\n",
            "Sobrenome: Silva\n",
            "Idade: 21\n",
            "Cidade: Goiania\n",
            "\n"
          ]
        }
      ]
    },
    {
      "cell_type": "code",
      "source": [
        "#Exercicio 12\n",
        "\n",
        "pets = []\n",
        "\n",
        "while True:\n",
        "    pet = {}\n",
        "    pet[\"nome\"] = input(\"Digite o nome do animal de estimação (ou 'sair' para encerrar): \")\n",
        "\n",
        "    if pet[\"nome\"].lower() == \"sair\":\n",
        "        break\n",
        "\n",
        "    pet[\"tipo\"] = input(\"Digite o tipo do animal: \")\n",
        "    pet[\"dono\"] = input(\"Digite o nome do dono: \")\n",
        "\n",
        "    pets.append(pet)\n",
        "\n",
        "for pet in pets:\n",
        "    print(\"Nome:\", pet[\"nome\"])\n",
        "    print(\"Tipo:\", pet[\"tipo\"])\n",
        "    print(\"Dono:\", pet[\"dono\"])\n",
        "    print()\n"
      ],
      "metadata": {
        "colab": {
          "base_uri": "https://localhost:8080/"
        },
        "id": "BnURTmR1ZfmR",
        "outputId": "71daf334-9dc5-471b-b010-f9970ce59005"
      },
      "execution_count": 10,
      "outputs": [
        {
          "output_type": "stream",
          "name": "stdout",
          "text": [
            "Digite o nome do animal de estimação (ou 'sair' para encerrar): Simba\n",
            "Digite o tipo do animal: gato\n",
            "Digite o nome do dono: Heloysa\n",
            "Digite o nome do animal de estimação (ou 'sair' para encerrar): Ubueno\n",
            "Digite o tipo do animal: cachorro\n",
            "Digite o nome do dono: Vania\n",
            "Digite o nome do animal de estimação (ou 'sair' para encerrar): sair\n",
            "Nome: Simba\n",
            "Tipo: gato\n",
            "Dono: Heloysa\n",
            "\n",
            "Nome: Ubueno\n",
            "Tipo: cachorro\n",
            "Dono: Vania\n",
            "\n"
          ]
        }
      ]
    }
  ]
}