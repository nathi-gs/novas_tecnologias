{
  "nbformat": 4,
  "nbformat_minor": 0,
  "metadata": {
    "colab": {
      "provenance": [],
      "authorship_tag": "ABX9TyO1d1KcJqBley1ktg22jI2d",
      "include_colab_link": true
    },
    "kernelspec": {
      "name": "python3",
      "display_name": "Python 3"
    },
    "language_info": {
      "name": "python"
    }
  },
  "cells": [
    {
      "cell_type": "markdown",
      "metadata": {
        "id": "view-in-github",
        "colab_type": "text"
      },
      "source": [
        "<a href=\"https://colab.research.google.com/github/nathi-gs/AULA/blob/main/Untitled4.ipynb\" target=\"_parent\"><img src=\"https://colab.research.google.com/assets/colab-badge.svg\" alt=\"Open In Colab\"/></a>"
      ]
    },
    {
      "cell_type": "code",
      "execution_count": 18,
      "metadata": {
        "colab": {
          "base_uri": "https://localhost:8080/"
        },
        "id": "S7j-5lHQlKkA",
        "outputId": "bd6fc7b0-9532-42fb-e703-e9ba8769e11b"
      },
      "outputs": [
        {
          "output_type": "stream",
          "name": "stdout",
          "text": [
            "Exercicio 1\n",
            "\n",
            "Digite um valor inteiro para A: 5\n",
            "Digite um valor inteiro para B: 5\n",
            "A soma é 10\n",
            " O produto é 25\n",
            " A diferença é 0\n",
            " A divisão é 1\n"
          ]
        }
      ],
      "source": [
        "print(\"Exercicio 1\\n\")\n",
        "A = int(input('Digite um valor inteiro para A: '))\n",
        "B = int(input('Digite um valor inteiro para B: '))\n",
        "\n",
        "V = A + B\n",
        "M = A * B\n",
        "S = A - B\n",
        "D = A // B\n",
        "\n",
        "print('A soma é {}\\n O produto é {}\\n A diferença é {}\\n A divisão é {}'.format(V, M, S, D))"
      ]
    },
    {
      "cell_type": "code",
      "source": [
        "print(\"Exercicio 2\\n\")\n",
        "print(\"*******\")\n",
        "print(\"*     *\")\n",
        "print(\"*     *   Caixa\")\n",
        "print(\"*     *\")\n",
        "print(\"*******\\n\")\n",
        "\n",
        "\n",
        "print(\" ** \")\n",
        "print(\"*  *      Oval\")\n",
        "print(\"*  *\")\n",
        "print(\" ** \\n\")\n",
        "\n",
        "print(\"    *\")\n",
        "print(\"***** *   Seta\")\n",
        "print(\"    *\\n\")\n",
        "\n",
        "print(\"    *    \")\n",
        "print(\"   * *   \")\n",
        "print(\"  *   *  \")\n",
        "print(\" *     * \")\n",
        "print(\"*       *     Losango\")\n",
        "print(\" *     * \")\n",
        "print(\"  *   *  \")\n",
        "print(\"   * *   \")\n",
        "print(\"    *    \")\n"
      ],
      "metadata": {
        "colab": {
          "base_uri": "https://localhost:8080/"
        },
        "id": "U4ec6axzaG79",
        "outputId": "3b6f26d3-ff8a-4b99-860e-9305c6edfd43"
      },
      "execution_count": 17,
      "outputs": [
        {
          "output_type": "stream",
          "name": "stdout",
          "text": [
            "Exercicio 2\n",
            "\n",
            "*******\n",
            "*     *\n",
            "*     *   Caixa\n",
            "*     *\n",
            "*******\n",
            "\n",
            " ** \n",
            "*  *      Oval\n",
            "*  *\n",
            " ** \n",
            "\n",
            "    *\n",
            "***** *   Seta\n",
            "    *\n",
            "\n",
            "    *    \n",
            "   * *   \n",
            "  *   *  \n",
            " *     * \n",
            "*       *     Losango\n",
            " *     * \n",
            "  *   *  \n",
            "   * *   \n",
            "    *    \n"
          ]
        }
      ]
    },
    {
      "cell_type": "code",
      "source": [
        "print(\"Exercicio 3\\n\")\n",
        "numero = int(input(\"Digite um número inteiro: \"))\n",
        "\n",
        "if numero % 2 == 0:\n",
        "    print(f\"{numero} é um número par.\")\n",
        "else:\n",
        "    print(f\"{numero} é um número ímpar.\")\n"
      ],
      "metadata": {
        "colab": {
          "base_uri": "https://localhost:8080/"
        },
        "id": "IeqMGYvfdUHW",
        "outputId": "70089200-8cd5-423b-e620-4d257942de39"
      },
      "execution_count": 19,
      "outputs": [
        {
          "output_type": "stream",
          "name": "stdout",
          "text": [
            "Exercicio 3\n",
            "Insira um número inteiro: 5\n",
            "5 é um número ímpar.\n"
          ]
        }
      ]
    },
    {
      "cell_type": "code",
      "source": [
        "print(\"Exercicio 4\\n\")\n",
        "numero = input(\"Digite um número de cinco dígitos: \")\n",
        "\n",
        "if len(numero) != 5 or not numero.isdigit():\n",
        "    print(\"Digite um número válido de cinco dígitos.\")\n",
        "else:\n",
        "    for digito in numero:\n",
        "        print(digito, end=\"   \")\n"
      ],
      "metadata": {
        "colab": {
          "base_uri": "https://localhost:8080/"
        },
        "id": "ai9s3eYBd06f",
        "outputId": "c4db5d02-0e0f-4f2e-dcf8-8bb5534bbaca"
      },
      "execution_count": 22,
      "outputs": [
        {
          "output_type": "stream",
          "name": "stdout",
          "text": [
            "Exercicio 4\n",
            "Digite um número de cinco dígitos: 45612\n",
            "4   5   6   1   2   "
          ]
        }
      ]
    },
    {
      "cell_type": "code",
      "source": [
        "print(\"Exercicio 5\\n\")\n",
        "numero = input(\"Digite um número: \")\n",
        "\n",
        "if numero.isdigit():\n",
        "    print(\" \".join(numero))\n",
        "else:\n",
        "    print(\"Digite um número válido.\")\n"
      ],
      "metadata": {
        "colab": {
          "base_uri": "https://localhost:8080/"
        },
        "id": "z04A1HR1exmR",
        "outputId": "50b0f7e7-741c-4483-f358-29be0ca84830"
      },
      "execution_count": 24,
      "outputs": [
        {
          "output_type": "stream",
          "name": "stdout",
          "text": [
            "Exercicio 5\n",
            "\n",
            "Digite um número: m3\n",
            "Digite um número válido.\n"
          ]
        }
      ]
    },
    {
      "cell_type": "code",
      "source": [
        "print(\"Exercicio 6\\n\")\n",
        "import math\n",
        "\n",
        "def calcular_raizes(a, b, c):\n",
        "    delta = b**2 - 4*a*c\n",
        "\n",
        "    if delta > 0:\n",
        "        x1 = (-b + math.sqrt(delta)) / (2*a)\n",
        "        x2 = (-b - math.sqrt(delta)) / (2*a)\n",
        "        print(f\"As raízes são: x' = {x1:.2f} e x'' = {x2:.2f}\")\n",
        "    elif delta == 0:\n",
        "        x = -b / (2*a)\n",
        "        print(f\"A única raiz é: x = {x:.2f}\")\n",
        "    else:\n",
        "        print(\"A equação não possui raízes reais.\")\n",
        "\n",
        "try:\n",
        "    a = float(input(\"Digite o coeficiente a: \"))\n",
        "    b = float(input(\"Digite o coeficiente b: \"))\n",
        "    c = float(input(\"Digite o coeficiente c: \"))\n",
        "\n",
        "    calcular_raizes(a, b, c)\n",
        "except ValueError:\n",
        "    print(\"Por favor, insira coeficientes válidos.\")\n"
      ],
      "metadata": {
        "colab": {
          "base_uri": "https://localhost:8080/"
        },
        "id": "G0DnPpQpfNYA",
        "outputId": "6c8a09fe-e6ed-4f0c-cfe3-28637cfef2bf"
      },
      "execution_count": 25,
      "outputs": [
        {
          "output_type": "stream",
          "name": "stdout",
          "text": [
            "Exercicio 6\n",
            "\n",
            "Digite o coeficiente a: 4\n",
            "Digite o coeficiente b: 5\n",
            "Digite o coeficiente c: 8\n",
            "A equação não possui raízes reais.\n"
          ]
        }
      ]
    },
    {
      "cell_type": "code",
      "source": [
        "print(\"Exercicio 7\\n\")\n",
        "def converter_segundos(segundos):\n",
        "    dias = segundos // (24 * 3600)\n",
        "    segundos_restantes = segundos % (24 * 3600)\n",
        "    horas = segundos_restantes // 3600\n",
        "    segundos_restantes %= 3600\n",
        "    minutos = segundos_restantes // 60\n",
        "    segundos_restantes %= 60\n",
        "    segundos = segundos_restantes\n",
        "\n",
        "    print(f\"{dias} dias, {horas} horas, {minutos} minutos e {segundos} segundos\")\n",
        "\n",
        "try:\n",
        "    quantidade_segundos = int(input(\"Digite a quantidade de segundos: \"))\n",
        "    if quantidade_segundos >= 0:\n",
        "        converter_segundos(quantidade_segundos)\n",
        "    else:\n",
        "        print(\"Digite um número positivo.\")\n",
        "except ValueError:\n",
        "    print(\"Digite uma quantidade válida de segundos.\")\n"
      ],
      "metadata": {
        "colab": {
          "base_uri": "https://localhost:8080/"
        },
        "id": "nC2XROU_fmxw",
        "outputId": "143a9e48-96e2-4bd7-bdfb-2a62938a85ef"
      },
      "execution_count": 28,
      "outputs": [
        {
          "output_type": "stream",
          "name": "stdout",
          "text": [
            "Exercicio 7\n",
            "\n",
            "Digite a quantidade de segundos: 4528\n",
            "0 dias, 1 horas, 15 minutos e 28 segundos\n"
          ]
        }
      ]
    },
    {
      "cell_type": "code",
      "source": [
        "print(\"Exercicio 8\\n\")\n",
        "\n",
        "celsius = float(input(\"Digite a temperatura em Celsius: \"))\n",
        "\n",
        "fahrenheit = (celsius * 9/5) + 32\n",
        "\n",
        "print(f\"{celsius} graus Celsius são equivalentes a {fahrenheit:.2f} graus Fahrenheit.\")\n"
      ],
      "metadata": {
        "colab": {
          "base_uri": "https://localhost:8080/"
        },
        "id": "Y5aEhu1Hf9Cf",
        "outputId": "f1628175-9791-4fdb-b576-8d00d61f5f9d"
      },
      "execution_count": 29,
      "outputs": [
        {
          "output_type": "stream",
          "name": "stdout",
          "text": [
            "Exercicio 8\n",
            "\n",
            "Digite a temperatura em Celsius: 25\n",
            "25.0 graus Celsius são equivalentes a 77.00 graus Fahrenheit.\n"
          ]
        }
      ]
    },
    {
      "cell_type": "code",
      "source": [
        "print(\"Exercicio 9\\n\")\n",
        "while True:\n",
        "    print(\"\\nMENU:\")\n",
        "    print(\"1. Adição\")\n",
        "    print(\"2. Subtração\")\n",
        "    print(\"3. Multiplicação\")\n",
        "    print(\"4. Divisão\")\n",
        "    print(\"5. Sair\")\n",
        "\n",
        "    opcao = input(\"Escolha uma opção: \")\n",
        "\n",
        "    if opcao == '5':\n",
        "        print(\"Saindo do programa.\")\n",
        "        break\n",
        "\n",
        "    if opcao not in ['1', '2', '3', '4']:\n",
        "        print(\"Opção inválida. Digite uma opção válida.\")\n",
        "        continue\n",
        "\n",
        "    numero = int(input(\"Digite o número para o qual deseja ver a tabuada: \"))\n",
        "\n",
        "    if opcao == '1':\n",
        "        print(\"\\nTabuada de Adição:\")\n",
        "        for i in range(1, 11):\n",
        "            print(f\"{numero} + {i} = {numero + i}\")\n",
        "    elif opcao == '2':\n",
        "        print(\"\\nTabuada de Subtração:\")\n",
        "        for i in range(1, 11):\n",
        "            print(f\"{numero} - {i} = {numero - i}\")\n",
        "    elif opcao == '3':\n",
        "        print(\"\\nTabuada de Multiplicação:\")\n",
        "        for i in range(1, 11):\n",
        "            print(f\"{numero} x {i} = {numero * i}\")\n",
        "    elif opcao == '4':\n",
        "        print(\"\\nTabuada de Divisão:\")\n",
        "        for i in range(1, 11):\n",
        "            print(f\"{numero} ÷ {i} = {numero / i:.2f}\")\n"
      ],
      "metadata": {
        "colab": {
          "base_uri": "https://localhost:8080/"
        },
        "id": "Yf3Z8ctRgVSJ",
        "outputId": "21099646-c28d-4cf4-b58f-2e35c621f92d"
      },
      "execution_count": 31,
      "outputs": [
        {
          "output_type": "stream",
          "name": "stdout",
          "text": [
            "Exercicio 9\n",
            "\n",
            "\n",
            "MENU:\n",
            "1. Adição\n",
            "2. Subtração\n",
            "3. Multiplicação\n",
            "4. Divisão\n",
            "5. Sair\n",
            "Escolha uma opção: 1\n",
            "Digite o número para o qual deseja ver a tabuada: 5\n",
            "\n",
            "Tabuada de Adição:\n",
            "5 + 1 = 6\n",
            "5 + 2 = 7\n",
            "5 + 3 = 8\n",
            "5 + 4 = 9\n",
            "5 + 5 = 10\n",
            "5 + 6 = 11\n",
            "5 + 7 = 12\n",
            "5 + 8 = 13\n",
            "5 + 9 = 14\n",
            "5 + 10 = 15\n",
            "\n",
            "MENU:\n",
            "1. Adição\n",
            "2. Subtração\n",
            "3. Multiplicação\n",
            "4. Divisão\n",
            "5. Sair\n",
            "Escolha uma opção: 5\n",
            "Saindo do programa.\n"
          ]
        }
      ]
    },
    {
      "cell_type": "code",
      "source": [
        "print(\"Exercicio 10\\n\")\n",
        "def verificar_primo(numero):\n",
        "    if numero <= 1:\n",
        "        return False\n",
        "    for i in range(2, int(numero ** 0.5) + 1):\n",
        "        if numero % i == 0:\n",
        "            return False\n",
        "    return True\n",
        "\n",
        "try:\n",
        "    numero = int(input(\"Digite um número inteiro positivo maior que 1: \"))\n",
        "    if verificar_primo(numero):\n",
        "        print(f\"{numero} é um número primo.\")\n",
        "    else:\n",
        "        print(f\"{numero} não é um número primo.\")\n",
        "except ValueError:\n",
        "    print(\"Digite um número inteiro válido.\")\n"
      ],
      "metadata": {
        "colab": {
          "base_uri": "https://localhost:8080/"
        },
        "id": "o5DkVpuig03-",
        "outputId": "14bf9e7b-a95e-4f33-823f-8d0e4889ac26"
      },
      "execution_count": 32,
      "outputs": [
        {
          "output_type": "stream",
          "name": "stdout",
          "text": [
            "Exercicio 10\n",
            "\n",
            "Digite um número inteiro positivo maior que 1: 2\n",
            "2 é um número primo.\n"
          ]
        }
      ]
    },
    {
      "cell_type": "code",
      "source": [
        "print(\"Exercicio 11\\n\")\n",
        "def verificar_primo(numero):\n",
        "    if numero <= 1:\n",
        "        return False\n",
        "    for i in range(2, int(numero ** 0.5) + 1):\n",
        "        if numero % i == 0:\n",
        "            return False\n",
        "    return True\n",
        "\n",
        "try:\n",
        "    numero = int(input(\"Digite um número inteiro positivo maior que 1: \"))\n",
        "    if verificar_primo(numero):\n",
        "        print(f\"{numero} é um número primo.\")\n",
        "    else:\n",
        "        print(f\"{numero} não é um número primo.\")\n",
        "except ValueError:\n",
        "    print(\"Digite um número inteiro válido.\")\n",
        "\n"
      ],
      "metadata": {
        "colab": {
          "base_uri": "https://localhost:8080/"
        },
        "id": "9Fs3jQHzhKty",
        "outputId": "a1d07f8e-089f-4b91-db2a-427f0b7f285d"
      },
      "execution_count": 33,
      "outputs": [
        {
          "output_type": "stream",
          "name": "stdout",
          "text": [
            "Exercicio 11\n",
            "\n",
            "Digite um número inteiro positivo maior que 1: 45288888\n",
            "45288888 não é um número primo.\n"
          ]
        }
      ]
    },
    {
      "cell_type": "code",
      "source": [
        "print(\"Exercicio 12\\n\")\n",
        "def verificar_primo(numero):\n",
        "    if numero <= 1:\n",
        "        return False\n",
        "    for i in range(2, int(numero ** 0.5) + 1):\n",
        "        if numero % i == 0:\n",
        "            return False\n",
        "    return True\n",
        "\n",
        "try:\n",
        "    n = int(input(\"Digite a quantidade de números primos que deseja encontrar: \"))\n",
        "    if n <= 0:\n",
        "        print(\"Digite um número inteiro positivo maior que 0.\")\n",
        "    else:\n",
        "        contador = 0\n",
        "        numero = 2\n",
        "        print(f\"Os primeiros {n} números primos são:\")\n",
        "        while contador < n:\n",
        "            if verificar_primo(numero):\n",
        "                print(numero, end=\" \")\n",
        "                contador += 1\n",
        "            numero += 1\n",
        "except ValueError:\n",
        "    print(\"Digite um número inteiro válido.\")\n"
      ],
      "metadata": {
        "colab": {
          "base_uri": "https://localhost:8080/"
        },
        "id": "4G478QZ-h3EV",
        "outputId": "958935d1-09dc-4b93-bbe4-74645ba8ecf1"
      },
      "execution_count": 34,
      "outputs": [
        {
          "output_type": "stream",
          "name": "stdout",
          "text": [
            "Exercicio 12\n",
            "\n",
            "Digite a quantidade de números primos que deseja encontrar: 8\n",
            "Os primeiros 8 números primos são:\n",
            "2 3 5 7 11 13 17 19 "
          ]
        }
      ]
    },
    {
      "cell_type": "code",
      "source": [
        "print(\"Exercicio 13\\n\")\n",
        "def calcular_fatorial(n):\n",
        "    if n == 0:\n",
        "        return 1\n",
        "    else:\n",
        "        fatorial = 1\n",
        "        for i in range(1, n + 1):\n",
        "            fatorial *= i\n",
        "        return fatorial\n",
        "\n",
        "try:\n",
        "    n = int(input(\"Digite um número não negativo para calcular o fatorial: \"))\n",
        "    if n < 0:\n",
        "        print(\"Digite um número não negativo.\")\n",
        "    else:\n",
        "        resultado = calcular_fatorial(n)\n",
        "        print(f\"O fatorial de {n} é {resultado}.\")\n",
        "except ValueError:\n",
        "    print(\"Digite um número inteiro válido.\")\n"
      ],
      "metadata": {
        "colab": {
          "base_uri": "https://localhost:8080/"
        },
        "id": "_XxRtb2niPIX",
        "outputId": "44470760-d9eb-4710-d10d-839d2d439daf"
      },
      "execution_count": 35,
      "outputs": [
        {
          "output_type": "stream",
          "name": "stdout",
          "text": [
            "Exercicio 13\n",
            "\n",
            "Digite um número não negativo para calcular o fatorial: 54\n",
            "O fatorial de 54 é 230843697339241380472092742683027581083278564571807941132288000000000000.\n"
          ]
        }
      ]
    },
    {
      "cell_type": "code",
      "source": [
        "print(\"Exercicio 14\\n\")\n",
        "def calcular_fatorial(n):\n",
        "    if n == 0:\n",
        "        return 1\n",
        "    else:\n",
        "        fatorial = 1\n",
        "        for i in range(1, n + 1):\n",
        "            fatorial *= i\n",
        "        return fatorial\n",
        "\n",
        "try:\n",
        "    n = int(input(\"Digite um número inteiro não negativo para calcular o fatorial: \"))\n",
        "\n",
        "    if n < 0:\n",
        "        print(\"Digite um número não negativo.\")\n",
        "    else:\n",
        "        resultado = calcular_fatorial(n)\n",
        "\n",
        "        print(f\"O fatorial de {n} é {resultado}.\")\n",
        "except ValueError:\n",
        "    print(\"Digite um número inteiro válido.\")\n"
      ],
      "metadata": {
        "colab": {
          "base_uri": "https://localhost:8080/"
        },
        "id": "4PZCNwXbi6tu",
        "outputId": "e2733002-cf44-429f-ec1f-d57ec5a018a0"
      },
      "execution_count": 36,
      "outputs": [
        {
          "output_type": "stream",
          "name": "stdout",
          "text": [
            "Exercicio 14\n",
            "\n",
            "Digite um número inteiro não negativo para calcular o fatorial: 4\n",
            "O fatorial de 4 é 24.\n"
          ]
        }
      ]
    },
    {
      "cell_type": "code",
      "source": [
        "print(\"Exercicio 15\\n\")\n",
        "def calcular_quadrado(n):\n",
        "    soma_impares = 0\n",
        "    impar = 1\n",
        "    for _ in range(n):\n",
        "        soma_impares += impar\n",
        "        impar += 2\n",
        "    return soma_impares\n",
        "\n",
        "try:\n",
        "    n = int(input(\"Digite um número natural para calcular seu quadrado: \"))\n",
        "    if n < 0:\n",
        "        print(\"Digite um número natural.\")\n",
        "    else:\n",
        "        quadrado = calcular_quadrado(n)\n",
        "        print(f\"O quadrado de {n} é {quadrado}.\")\n",
        "except ValueError:\n",
        "    print(\"Digite um número natural válido.\")\n"
      ],
      "metadata": {
        "colab": {
          "base_uri": "https://localhost:8080/"
        },
        "id": "Jg1Eak9NjaCm",
        "outputId": "9ecd03cc-3c56-4caa-df6f-98864ed6827b"
      },
      "execution_count": 37,
      "outputs": [
        {
          "output_type": "stream",
          "name": "stdout",
          "text": [
            "Exercicio 15\n",
            "\n",
            "Digite um número natural para calcular seu quadrado: 4\n",
            "O quadrado de 4 é 16.\n"
          ]
        }
      ]
    },
    {
      "cell_type": "code",
      "source": [
        "print(\"Exercicio 16\\n\")\n",
        "try:\n",
        "    n = int(input(\"Digite um número inteiro maior ou igual a 3 para calcular o termo correspondente da sequência de Fibonacci: \"))\n",
        "\n",
        "    if n < 3:\n",
        "        print(\"Digite um número inteiro maior ou igual a 3.\")\n",
        "    else:\n",
        "        termo_anterior_1 = 1\n",
        "        termo_anterior_2 = 1\n",
        "\n",
        "        for _ in range(3, n + 1):\n",
        "            atual = termo_anterior_1 + termo_anterior_2\n",
        "            termo_anterior_1, termo_anterior_2 = termo_anterior_2, atual\n",
        "\n",
        "        print(f\"O {n}-ésimo termo da sequência de Fibonacci é {atual}.\")\n",
        "except ValueError:\n",
        "    print(\"Digite um número inteiro válido.\")\n"
      ],
      "metadata": {
        "id": "BRiybZ1Hj5UM"
      },
      "execution_count": null,
      "outputs": []
    },
    {
      "cell_type": "code",
      "source": [
        "print(\"Exercicio 17\\n\")\n",
        "try:\n",
        "    numero_conta = input(\"Digite o número da conta (até seis dígitos): \")\n",
        "\n",
        "    soma_digitos = sum(int(digito) for digito in numero_conta)\n",
        "\n",
        "    digito_verificador = soma_digitos % 10\n",
        "\n",
        "    numero_conta_completo = f\"00{numero_conta}-{digito_verificador}\"\n",
        "    print(f\"Número de conta completo: {numero_conta_completo}\")\n",
        "\n",
        "except ValueError:\n",
        "    print(\"Digite um número de conta válido.\")\n"
      ],
      "metadata": {
        "colab": {
          "base_uri": "https://localhost:8080/"
        },
        "id": "GmJZTx_Gkd0D",
        "outputId": "89f149ce-d282-4dfc-a4a7-ebf22ec17e26"
      },
      "execution_count": 38,
      "outputs": [
        {
          "output_type": "stream",
          "name": "stdout",
          "text": [
            "Exercicio 17\n",
            "\n",
            "Digite o número da conta (até seis dígitos): 154\n",
            "Número de conta completo: 00154-0\n"
          ]
        }
      ]
    }
  ]
}