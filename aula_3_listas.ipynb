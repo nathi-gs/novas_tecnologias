{
  "cells": [
    {
      "cell_type": "markdown",
      "metadata": {
        "id": "view-in-github",
        "colab_type": "text"
      },
      "source": [
        "<a href=\"https://colab.research.google.com/github/nathi-gs/novas_tecnologias/blob/main/aula_3_listas.ipynb\" target=\"_parent\"><img src=\"https://colab.research.google.com/assets/colab-badge.svg\" alt=\"Open In Colab\"/></a>"
      ]
    },
    {
      "cell_type": "code",
      "source": [
        "#Aula 3 - Listas\n",
        "#Exercicio 1 - a) Imprima o maior elemento.\n",
        "\n",
        "lista = [12, -2, 4, 8, 29, 45, 78, 36, -17, 2, 12, 8, 3, 3,-52]\n",
        "print(\"Maior numero da lista é: \", max(lista))"
      ],
      "metadata": {
        "id": "PvhavWbyOudm"
      },
      "execution_count": null,
      "outputs": []
    },
    {
      "cell_type": "code",
      "source": [
        "# Exercicio 1 - b) Imprima o menor elemento.\n",
        "\n",
        "lista = [12, -2, 4, 8, 29, 45, 78, 36, -17, 2, 12, 8, 3, 3,-52]\n",
        "print(\"Menor numero da lista é: \", min(lista))"
      ],
      "metadata": {
        "id": "SChdU2dvPGQ3",
        "outputId": "02a646d0-4889-4ce1-f390-b349eeb8e32b",
        "colab": {
          "base_uri": "https://localhost:8080/"
        }
      },
      "execution_count": null,
      "outputs": [
        {
          "output_type": "stream",
          "name": "stdout",
          "text": [
            "Menor numero da lista é:  -52\n"
          ]
        }
      ]
    },
    {
      "cell_type": "code",
      "source": [
        "#Exercicio 1 - c) Imprima os números pares.\n",
        "\n",
        "lista = [12, -2, 4, 8, 29, 45, 78, 36, -17, 2, 12, 8, 3, 3,-52]\n",
        "\n",
        "for num in lista:\n",
        "\n",
        "    if num % 2 == 0:\n",
        "       print(num, end = \" \")"
      ],
      "metadata": {
        "id": "EN3KDmetRzKu",
        "outputId": "e469d7c3-3279-424e-d9a1-57f01271e983",
        "colab": {
          "base_uri": "https://localhost:8080/"
        }
      },
      "execution_count": null,
      "outputs": [
        {
          "output_type": "stream",
          "name": "stdout",
          "text": [
            "12 -2 4 8 78 36 2 12 8 -52 "
          ]
        }
      ]
    },
    {
      "cell_type": "code",
      "source": [
        "#Exercicio 1 - d) Imprima o número de ocorrências do primeiro elemento da lista.\n",
        "\n",
        "lista = [12, -2, 4, 8, 29, 45, 78, 36, -17, 2, 12, 8, 3, 3,-52]\n",
        "print(\"O número de Ocorências é: \", lista.count(12))"
      ],
      "metadata": {
        "id": "kHkiLETyU8BL",
        "outputId": "d7149aec-5b5b-4994-b187-0fe1ba530554",
        "colab": {
          "base_uri": "https://localhost:8080/"
        }
      },
      "execution_count": null,
      "outputs": [
        {
          "output_type": "stream",
          "name": "stdout",
          "text": [
            "O número de Ocorências é:  2\n"
          ]
        }
      ]
    },
    {
      "cell_type": "code",
      "source": [
        "#Exercicio 1 - e) Imprima a média dos elementos\n",
        "\n",
        "lista = [12, -2, 4, 8, 29, 45, 78, 36, -17, 2, 12, 8, 3, 3,-52]\n",
        "\n",
        "soma=0\n",
        "x=0\n",
        "while x<5:\n",
        "   soma += lista[x]\n",
        "   x += 1\n",
        "print(f\"Média: {soma/x:5.2f}\")"
      ],
      "metadata": {
        "id": "Qu9ve5qOWHXP",
        "outputId": "d981fcc1-e0eb-4bff-a66f-5944e82de65f",
        "colab": {
          "base_uri": "https://localhost:8080/"
        }
      },
      "execution_count": null,
      "outputs": [
        {
          "output_type": "stream",
          "name": "stdout",
          "text": [
            "Média: 10.20\n"
          ]
        }
      ]
    },
    {
      "cell_type": "code",
      "source": [
        "#Exercicio 1 - f) Imprima a soma dos elementos de valor negativo.\n",
        "\n",
        "lista = [12, -2, 4, 8, 29, 45, 78, 36, -17, 2, 12, 8, 3, 3,-52]\n",
        "\n",
        "soma_negativos = 0\n",
        "\n",
        "for elemento in lista:\n",
        "    if elemento < 0:\n",
        "        soma_negativos += elemento\n",
        "\n",
        "print(\"A soma dos elementos de valor negativo é:\", soma_negativos)\n",
        "\n"
      ],
      "metadata": {
        "id": "yth35WqjZG_o",
        "outputId": "293cead0-d33a-4c85-bb00-8af87b265faf",
        "colab": {
          "base_uri": "https://localhost:8080/"
        }
      },
      "execution_count": null,
      "outputs": [
        {
          "output_type": "stream",
          "name": "stdout",
          "text": [
            "A soma dos elementos de valor negativo é: -71\n"
          ]
        }
      ]
    },
    {
      "cell_type": "code",
      "source": [
        "#Exercicio 2\n",
        "\n",
        "print(\"\"\"              *********************\n",
        "                      *** JOGO DA FORCA ***\n",
        "                      *********************\n",
        "\"\"\")\n",
        "\n",
        "palavra_reservada=\"Banana\"\n",
        "\n",
        "palavra=['_','_','_','_','_','_']\n",
        "\n",
        "print(palavra)\n",
        "\n",
        "acertou=False\n",
        "enforcou=False\n",
        "erros=0\n",
        "\n",
        "while not acertou and not enforcou:\n",
        "\n",
        "   chute = input(\"Chuta uma letra: \")\n",
        "\n",
        "   for i,letra in enumerate(palavra_reservada):\n",
        "       if chute.upper()==letra.upper():\n",
        "          palavra[i]=chute\n",
        "\n",
        "   erros+=1\n",
        "\n",
        "   acertou = not \"_\" in palavra\n",
        "   enforcou = erros==6\n",
        "\n",
        "print(palavra)\n",
        "\n",
        "if acertou==True:\n",
        "    print(\"\"\"\n",
        "                 ********* Você venceu *********\n",
        "    \"\"\")\n",
        "else:\n",
        "   print(\"\"\"\n",
        "                ********* Game Over! *********\n",
        "    \"\"\")"
      ],
      "metadata": {
        "colab": {
          "base_uri": "https://localhost:8080/"
        },
        "id": "jpHGLt_PThm_",
        "outputId": "9fb154c1-7722-4d18-a5b9-cb9bb92201ee"
      },
      "execution_count": 7,
      "outputs": [
        {
          "output_type": "stream",
          "name": "stdout",
          "text": [
            "             *********************\n",
            "                      *** JOGO DA FORCA ***\n",
            "                      *********************\n",
            "\n",
            "['_', '_', '_', '_', '_', '_']\n",
            "Chuta uma letra: b\n",
            "Chuta uma letra: a\n",
            "Chuta uma letra: n\n",
            "['b', 'a', 'n', 'a', 'n', 'a']\n",
            "\n",
            "                 ********* Você venceu *********\n",
            "    \n"
          ]
        }
      ]
    },
    {
      "cell_type": "code",
      "source": [
        "#Exercicio 3\n",
        "\n",
        "def verifica_parentheses(expressao):\n",
        "    pilha = []\n",
        "    for char in expressao:\n",
        "        if char == '(':\n",
        "            pilha.append(char)\n",
        "        elif char == ')':\n",
        "            if not pilha or pilha[-1] != '(':\n",
        "                return False\n",
        "            pilha.pop()\n",
        "    return not pilha\n",
        "\n",
        "expressao = input(\"Digite uma expressão com parênteses: \")\n",
        "\n",
        "if verifica_parentheses(expressao):\n",
        "    print(\"OK\")\n",
        "else:\n",
        "    print(\"Erro\")\n"
      ],
      "metadata": {
        "colab": {
          "base_uri": "https://localhost:8080/"
        },
        "id": "5LXmECF4U4wd",
        "outputId": "199c50e3-6f0a-4350-f9b2-087089e92b05"
      },
      "execution_count": 12,
      "outputs": [
        {
          "output_type": "stream",
          "name": "stdout",
          "text": [
            "Digite uma expressão com parênteses: (AQUI\n",
            "Erro.\n"
          ]
        }
      ]
    },
    {
      "cell_type": "code",
      "source": [
        "#Exercicio 4\n",
        "\n",
        "T = [-10, -8, 0, 1, 2, 5, -2, -4]\n",
        "\n",
        "menor_temperatura = min(T)\n",
        "maior_temperatura = max(T)\n",
        "temperatura_media = sum(T) / len(T)\n",
        "\n",
        "print(\"Menor temperatura:\", menor_temperatura)\n",
        "print(\"Maior temperatura:\", maior_temperatura)\n",
        "print(\"Temperatura média:\", temperatura_media)\n"
      ],
      "metadata": {
        "colab": {
          "base_uri": "https://localhost:8080/"
        },
        "id": "iPmzozLwVxoy",
        "outputId": "8c9a63b0-4242-4dd2-e244-090b24853e3f"
      },
      "execution_count": 13,
      "outputs": [
        {
          "output_type": "stream",
          "name": "stdout",
          "text": [
            "Menor temperatura: -10\n",
            "Maior temperatura: 5\n",
            "Temperatura média: -2.0\n"
          ]
        }
      ]
    },
    {
      "cell_type": "code",
      "source": [
        "#Exercicio 5\n",
        "\n",
        "V = [9, 8, 7, 12, 0, 13, 21]\n",
        "pares = []\n",
        "impares = []\n",
        "\n",
        "for valor in V:\n",
        "    if valor % 2 == 0:\n",
        "        pares.append(valor)\n",
        "    else:\n",
        "        impares.append(valor)\n",
        "\n",
        "print(\"Valores pares:\", pares)\n",
        "print(\"Valores ímpares:\", impares)"
      ],
      "metadata": {
        "colab": {
          "base_uri": "https://localhost:8080/"
        },
        "id": "CiBn9IGPV_Ge",
        "outputId": "c2100ad5-489e-4e38-dc79-807b1ee49514"
      },
      "execution_count": 14,
      "outputs": [
        {
          "output_type": "stream",
          "name": "stdout",
          "text": [
            "Valores pares: [8, 12, 0]\n",
            "Valores ímpares: [9, 7, 13, 21]\n"
          ]
        }
      ]
    },
    {
      "cell_type": "code",
      "source": [
        "#Exericio 6\n",
        "\n",
        "lugares_vagos = [10, 2, 1, 3, 0]\n",
        "\n",
        "while True:\n",
        "    sala = int(input(\"Digite o número da sala ou 0 para sair: \"))\n",
        "\n",
        "    if sala == 0:\n",
        "        print(\"Programa encerrado.\")\n",
        "        break\n",
        "\n",
        "    if sala < 1 or sala > len(lugares_vagos):\n",
        "        print(\"Sala inválida. Tente novamente\")\n",
        "        continue\n",
        "\n",
        "    lugares_solicitados = int(input(\"Digite a quantidade de lugares solicitados: \"))\n",
        "\n",
        "    if lugares_solicitados <= lugares_vagos[sala - 1]:\n",
        "        lugares_vagos[sala - 1] -= lugares_solicitados\n",
        "        print(\"Lugares vendidos com sucesso!\")\n",
        "    else:\n",
        "        print(\"Não há lugares suficientes disponíveis para venda.\")\n",
        "\n",
        "    print(\"Lugares vagos atualizados:\", lugares_vagos)\n"
      ],
      "metadata": {
        "id": "JVaphjIhWBYu"
      },
      "execution_count": null,
      "outputs": []
    },
    {
      "cell_type": "code",
      "source": [
        "#EXERCICIO 7\n",
        "\n",
        "grid = [['00', '01', '02'],['10','11','12'],['20','21','22']]\n",
        "\n",
        "for linha in grid:\n",
        "  for coluna in linha:\n",
        "    print(coluna, end=\" \")\n",
        "  print(\"\")\n",
        "\n",
        "venceu = False\n",
        "velha = False\n",
        "tentativas = 0\n",
        "\n",
        "while not venceu and not velha:\n",
        "\n",
        "  jogada = input(\"Coloque X ou O: \")\n",
        "  i = int(input(\"Em qual linha: \"))\n",
        "  j = int(input(\"Em qual coluna: \"))\n",
        "\n",
        "  grid[i][j] = jogada\n",
        "  tentativas +=1\n",
        "\n",
        "  for linha in grid:\n",
        "    for coluna in linha:\n",
        "      print(coluna, end=\" \")\n",
        "    print(\"\")\n",
        "\n",
        "  if (grid[0][0]==grid[1][1]==grid[2][2]):\n",
        "    venceu=True\n",
        "  else:\n",
        "    for i in range(0, len(grid)):\n",
        "      if (grid[i][0]==grid[i][1]==grid[i][2]):\n",
        "        venceu = True\n",
        "        break\n",
        "      elif(grid[0][i]==grid[1][i]==grid[2][i]):\n",
        "        venceu = True\n",
        "        break\n",
        "\n",
        "  if tentativas==9:\n",
        "   velha = True\n",
        "\n",
        "if (venceu==True):\n",
        "  print(f\"O jogador de {jogada} é vencedor!!!!!!!!!!!!!!\")\n",
        "else:\n",
        "  print(\"Uau!! Deu velha!!!!!!!!\")"
      ],
      "metadata": {
        "id": "Vj6PFVxvWMGG"
      },
      "execution_count": null,
      "outputs": []
    }
  ],
  "metadata": {
    "colab": {
      "toc_visible": true,
      "provenance": [],
      "include_colab_link": true
    },
    "kernelspec": {
      "display_name": "Python 3",
      "name": "python3"
    }
  },
  "nbformat": 4,
  "nbformat_minor": 0
}